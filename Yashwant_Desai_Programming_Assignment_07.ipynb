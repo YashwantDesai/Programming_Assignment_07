{
 "cells": [
  {
   "cell_type": "markdown",
   "id": "0c27a818",
   "metadata": {},
   "source": [
    "# Yashwant Desai –  Programming_Assingment 07"
   ]
  },
  {
   "cell_type": "markdown",
   "id": "693799f7",
   "metadata": {},
   "source": [
    "# 1.\tWrite a Python Program to find sum of array?"
   ]
  },
  {
   "cell_type": "code",
   "execution_count": 1,
   "id": "b767c50d",
   "metadata": {},
   "outputs": [
    {
     "name": "stdout",
     "output_type": "stream",
     "text": [
      "Sum of the array: 856\n"
     ]
    }
   ],
   "source": [
    "def sum_of_array(number):\n",
    "    sum_num = 0\n",
    "    for num in number:\n",
    "        sum_num += num\n",
    "    return sum_num\n",
    "\n",
    "data_array = [88, 90,100, 500, 78]\n",
    "result = sum_of_array(data_array)\n",
    "print(\"Sum of the array:\", result)"
   ]
  },
  {
   "cell_type": "markdown",
   "id": "632e3c52",
   "metadata": {},
   "source": [
    "# 2.\tWrite a Python Program to find largest element in an array?"
   ]
  },
  {
   "cell_type": "code",
   "execution_count": 2,
   "id": "ee3fa4ae",
   "metadata": {},
   "outputs": [
    {
     "name": "stdout",
     "output_type": "stream",
     "text": [
      "Largest element in the array: 500\n"
     ]
    }
   ],
   "source": [
    "def find_largest_element(number):\n",
    "    if not number:\n",
    "        return None\n",
    "\n",
    "    largest_element = number[0]\n",
    "    for num in number:\n",
    "        if num > largest_element:\n",
    "            largest_element = num\n",
    "\n",
    "    return largest_element\n",
    "data_array = [88, 90,100, 500, 78]\n",
    "result = find_largest_element(data_array)\n",
    "print(\"Largest element in the array:\", result)"
   ]
  },
  {
   "cell_type": "markdown",
   "id": "30735fc0",
   "metadata": {},
   "source": [
    "# 3.\tWrite a Python Program for array rotation?"
   ]
  },
  {
   "cell_type": "code",
   "execution_count": 3,
   "id": "8d826d2a",
   "metadata": {},
   "outputs": [
    {
     "name": "stdout",
     "output_type": "stream",
     "text": [
      "Rotated array: [101, 150, 88, 90, 100]\n"
     ]
    }
   ],
   "source": [
    "def array_rotation(number, y):\n",
    "    x = len(number)\n",
    "    y = y % x\n",
    "    reverse(number, 0, x - 1)\n",
    "    reverse(number, 0, y - 1)\n",
    "    reverse(number, y, x - 1)\n",
    "def reverse(number, start, end):\n",
    "    while start < end:\n",
    "        number[start], number[end] = number[end], number[start]\n",
    "        start += 1\n",
    "        end -= 1\n",
    "\n",
    "data_array = [88, 90,100, 101, 150]\n",
    "rotations = 2\n",
    "array_rotation(data_array, rotations)\n",
    "print(\"Rotated array:\", data_array)"
   ]
  },
  {
   "cell_type": "markdown",
   "id": "294a4594",
   "metadata": {},
   "source": [
    "# 4.Write a Python Program to Split the array and add the first part to the end?"
   ]
  },
  {
   "cell_type": "code",
   "execution_count": 4,
   "id": "3d6f1cfc",
   "metadata": {},
   "outputs": [
    {
     "name": "stdout",
     "output_type": "stream",
     "text": [
      "Updated array: [70, 80, 90, 30, 60]\n"
     ]
    }
   ],
   "source": [
    "def add_first_part_to_end(number, split_index):\n",
    "    return number[split_index:] + number[:split_index]\n",
    "data_array = [30, 60,70, 80, 90]\n",
    "split_index = 2\n",
    "result = add_first_part_to_end(data_array, split_index)\n",
    "print(\"Updated array:\", result)"
   ]
  },
  {
   "cell_type": "markdown",
   "id": "8b203e9a",
   "metadata": {},
   "source": [
    "# 5.\tWrite a Python Program to check if given array is Monotonic?"
   ]
  },
  {
   "cell_type": "code",
   "execution_count": 5,
   "id": "19f4a5c0",
   "metadata": {},
   "outputs": [
    {
     "name": "stdout",
     "output_type": "stream",
     "text": [
      "Data 1 is monotonic: True\n",
      "Data 2 is monotonic: True\n",
      "Data 3 is monotonic: False\n"
     ]
    }
   ],
   "source": [
    "def is_monotonic(number):\n",
    "    return all(number[i] <= number[i + 1] for i in range(len(number) - 1)) or all(number[i] >= number[i + 1] \n",
    "    for i in range(len(number) - 1))\n",
    "data1 = [50, 60, 70, 80, 90]  # Monotonic Increasing\n",
    "data2 = [90, 80, 70, 60, 50]  # Monotonic Decreasing\n",
    "data3 = [50, 70, 60, 80, 90]  # Not Monotonic\n",
    "print(\"Data 1 is monotonic:\", is_monotonic(data1))\n",
    "print(\"Data 2 is monotonic:\", is_monotonic(data2))\n",
    "print(\"Data 3 is monotonic:\", is_monotonic(data3))"
   ]
  },
  {
   "cell_type": "markdown",
   "id": "a79c0885",
   "metadata": {},
   "source": [
    "# Done Regards,Yashwant"
   ]
  }
 ],
 "metadata": {
  "kernelspec": {
   "display_name": "Python 3 (ipykernel)",
   "language": "python",
   "name": "python3"
  },
  "language_info": {
   "codemirror_mode": {
    "name": "ipython",
    "version": 3
   },
   "file_extension": ".py",
   "mimetype": "text/x-python",
   "name": "python",
   "nbconvert_exporter": "python",
   "pygments_lexer": "ipython3",
   "version": "3.9.13"
  }
 },
 "nbformat": 4,
 "nbformat_minor": 5
}
